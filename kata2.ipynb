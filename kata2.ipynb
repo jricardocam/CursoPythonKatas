{
 "cells": [
  {
   "cell_type": "markdown",
   "metadata": {},
   "source": [
    "# Creando entorno virtual"
   ]
  },
  {
   "cell_type": "markdown",
   "metadata": {},
   "source": [
    "En la terminal nos dirigimos a la carpeta deseada y ejecutamos el comando:\n",
    " python3 -m venv env "
   ]
  },
  {
   "cell_type": "code",
   "execution_count": 3,
   "metadata": {},
   "outputs": [
    {
     "ename": "SyntaxError",
     "evalue": "invalid syntax (4244454961.py, line 1)",
     "output_type": "error",
     "traceback": [
      "\u001b[1;36m  Input \u001b[1;32mIn [3]\u001b[1;36m\u001b[0m\n\u001b[1;33m    <img src=\"https://raw.githubusercontent.com/jupyter/notebook/master/notebook/static/base/images/logo.png\" alt=\"Jupyter Notebook\" style=\"float:left; margin-right: 15px; margin-left: 15px\">\u001b[0m\n\u001b[1;37m    ^\u001b[0m\n\u001b[1;31mSyntaxError\u001b[0m\u001b[1;31m:\u001b[0m invalid syntax\n"
     ]
    }
   ],
   "source": [
    "<img src=\"https://raw.githubusercontent.com/jupyter/notebook/master/notebook/static/base/images/logo.png\">"
   ]
  }
 ],
 "metadata": {
  "interpreter": {
   "hash": "f25b6aaac45db7cef4af8f4a7fc7bc92c32f87c5f3933a59250be50e69b096b2"
  },
  "kernelspec": {
   "display_name": "Python 3.10.4 64-bit",
   "language": "python",
   "name": "python3"
  },
  "language_info": {
   "codemirror_mode": {
    "name": "ipython",
    "version": 3
   },
   "file_extension": ".py",
   "mimetype": "text/x-python",
   "name": "python",
   "nbconvert_exporter": "python",
   "pygments_lexer": "ipython3",
   "version": "3.10.4"
  },
  "orig_nbformat": 4
 },
 "nbformat": 4,
 "nbformat_minor": 2
}
